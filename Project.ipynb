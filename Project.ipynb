{
 "cells": [
  {
   "cell_type": "code",
   "execution_count": 45,
   "id": "9f5ee198-80be-46df-8ba2-427c3adf7630",
   "metadata": {
    "tags": []
   },
   "outputs": [],
   "source": [
    "from sklearn.model_selection import train_test_split\n",
    "\n",
    "import pandas as pd\n",
    "import numpy as np\n",
    "import seaborn as sns\n",
    "import matplotlib.pyplot as plt\n",
    "from sklearn.ensemble import RandomForestClassifier\n",
    "from sklearn import metrics\n",
    "from sklearn.model_selection import KFold, cross_val_score\n",
    "from sklearn.ensemble import RandomForestClassifier"
   ]
  },
  {
   "cell_type": "code",
   "execution_count": 2,
   "id": "8644d2b6-479c-4280-8f8d-f6803d645816",
   "metadata": {},
   "outputs": [],
   "source": [
    "%matplotlib inline\n",
    "import numpy as np\n",
    "import pandas as pd\n",
    "import matplotlib.pyplot as plt\n",
    "import graphviz\n",
    "\n",
    "#import helpers_05_08 # A set of visualization helpers from PDSH text\n",
    "\n",
    "from sklearn.datasets import make_blobs\n",
    "\n",
    "\n",
    "from sklearn.pipeline import Pipeline\n",
    "from sklearn.preprocessing import StandardScaler\n",
    "from sklearn.tree import DecisionTreeClassifier, DecisionTreeRegressor\n",
    "from sklearn.metrics import accuracy_score,confusion_matrix, ConfusionMatrixDisplay\n",
    "from sklearn.model_selection import GridSearchCV\n",
    "from sklearn.tree import plot_tree\n",
    "from sklearn.ensemble import BaggingClassifier\n",
    "\n",
    "from sklearn.datasets import load_digits\n"
   ]
  },
  {
   "cell_type": "code",
   "execution_count": 2,
   "id": "f021f822-554a-4dad-bb15-845d8961a232",
   "metadata": {},
   "outputs": [
    {
     "name": "stdout",
     "output_type": "stream",
     "text": [
      "Defaulting to user installation because normal site-packages is not writeable\n",
      "\u001b[33mWARNING: Ignoring invalid distribution -ensorflow (/apps/python/3.10/lib/python3.10/site-packages)\u001b[0m\u001b[33m\n",
      "\u001b[0m\u001b[33mWARNING: Ignoring invalid distribution -idgetsnbextension (/apps/python/3.10/lib/python3.10/site-packages)\u001b[0m\u001b[33m\n",
      "\u001b[0m\u001b[33mWARNING: Ignoring invalid distribution -qdm (/apps/python/3.10/lib/python3.10/site-packages)\u001b[0m\u001b[33m\n",
      "\u001b[0m\u001b[33mWARNING: Ignoring invalid distribution -ryptography (/apps/python/3.10/lib/python3.10/site-packages)\u001b[0m\u001b[33m\n",
      "\u001b[0m\u001b[33mWARNING: Ignoring invalid distribution -yopenssl (/apps/python/3.10/lib/python3.10/site-packages)\u001b[0m\u001b[33m\n",
      "\u001b[0mRequirement already satisfied: ucimlrepo in /home/michele.himadi/.local/lib/python3.10/site-packages (0.0.6)\n",
      "\u001b[33mWARNING: Ignoring invalid distribution -ensorflow (/apps/python/3.10/lib/python3.10/site-packages)\u001b[0m\u001b[33m\n",
      "\u001b[0m\u001b[33mWARNING: Ignoring invalid distribution -idgetsnbextension (/apps/python/3.10/lib/python3.10/site-packages)\u001b[0m\u001b[33m\n",
      "\u001b[0m\u001b[33mWARNING: Ignoring invalid distribution -qdm (/apps/python/3.10/lib/python3.10/site-packages)\u001b[0m\u001b[33m\n",
      "\u001b[0m\u001b[33mWARNING: Ignoring invalid distribution -ryptography (/apps/python/3.10/lib/python3.10/site-packages)\u001b[0m\u001b[33m\n",
      "\u001b[0m\u001b[33mWARNING: Ignoring invalid distribution -yopenssl (/apps/python/3.10/lib/python3.10/site-packages)\u001b[0m\u001b[33m\n",
      "\u001b[0m\u001b[33mDEPRECATION: autogenes 1.0.4 has a non-standard dependency specifier matplotlib>=3.0.*. pip 24.0 will enforce this behaviour change. A possible replacement is to upgrade to a newer version of autogenes or contact the author to suggest that they release a version with a conforming dependency specifiers. Discussion can be found at https://github.com/pypa/pip/issues/12063\u001b[0m\u001b[33m\n",
      "\u001b[0m\u001b[33mDEPRECATION: textract 1.6.5 has a non-standard dependency specifier extract-msg<=0.29.*. pip 24.0 will enforce this behaviour change. A possible replacement is to upgrade to a newer version of textract or contact the author to suggest that they release a version with a conforming dependency specifiers. Discussion can be found at https://github.com/pypa/pip/issues/12063\u001b[0m\u001b[33m\n",
      "\u001b[0mNote: you may need to restart the kernel to use updated packages.\n"
     ]
    }
   ],
   "source": [
    "pip install ucimlrepo"
   ]
  },
  {
   "cell_type": "code",
   "execution_count": 25,
   "id": "39cadde2-a4ab-4ce5-a21d-09b31a7c2aa8",
   "metadata": {},
   "outputs": [],
   "source": [
    "from ucimlrepo import fetch_ucirepo \n",
    "  \n",
    "# fetch dataset \n",
    "breast_cancer_coimbra = fetch_ucirepo(id=451) \n",
    "  \n",
    "# data (as pandas dataframes) \n",
    "X = breast_cancer_coimbra.data.features \n",
    "y = breast_cancer_coimbra.data.targets \n",
    "  \n",
    "# metadata \n",
    "#print(breast_cancer_coimbra.metadata) \n",
    "  \n",
    "# variable information \n",
    "\n",
    "#print(breast_cancer_coimbra.variables) \n"
   ]
  },
  {
   "cell_type": "code",
   "execution_count": 26,
   "id": "738b29fd-7499-48b4-aa71-a5cca186ae12",
   "metadata": {
    "tags": []
   },
   "outputs": [],
   "source": [
    "y = y.replace({1: 0, 2: 1})\n",
    "y = y.to_numpy()\n",
    "y = y.ravel()\n"
   ]
  },
  {
   "cell_type": "code",
   "execution_count": 27,
   "id": "c2146ff9-8cbc-4726-bf7d-75fb6e99e8b4",
   "metadata": {
    "tags": []
   },
   "outputs": [
    {
     "data": {
      "text/plain": [
       "Text(0.5, 1.0, 'Correlation Heatmap')"
      ]
     },
     "execution_count": 27,
     "metadata": {},
     "output_type": "execute_result"
    },
    {
     "data": {
      "image/png": "[encoded data removed]",
      "text/plain": [
       "<Figure size 864x720 with 2 Axes>"
      ]
     },
     "metadata": {
      "needs_background": "light"
     },
     "output_type": "display_data"
    }
   ],
   "source": [
    "#exploratory data analysis - correlation heatmap for all variables\n",
    "\n",
    "\n",
    "\n",
    "features = breast_cancer_coimbra.data.features\n",
    "targets = breast_cancer_coimbra.data.targets\n",
    "\n",
    "# Concatenate features and targets along columns\n",
    "bc = pd.concat([features, targets], axis=1)\n",
    "#correlation matrix\n",
    "corr_matrix = bc.corr()\n",
    "\n",
    "plt.figure(figsize=(12, 10))\n",
    "\n",
    "#heatmap\n",
    "sns.heatmap(corr_matrix, cmap='coolwarm', fmt=\".2f\", linewidths=0.5)\n",
    "plt.title('Correlation Heatmap')"
   ]
  },
  {
   "cell_type": "code",
   "execution_count": 34,
   "id": "56f6b3ff-8b64-47e2-9761-883b05125f86",
   "metadata": {
    "tags": []
   },
   "outputs": [],
   "source": [
    "Xtrain, Xtest, ytrain, ytest = train_test_split(X, y,\n",
    "                                                random_state=0)\n",
    "model = RandomForestClassifier(n_estimators=175, max_depth=50, min_samples_split=5)\n",
    "model.fit(Xtrain, ytrain)\n",
    "ypred = model.predict(Xtest)"
   ]
  },
  {
   "cell_type": "code",
   "execution_count": 35,
   "id": "46fc0f03-c097-485d-bfb5-38cf82cd77b8",
   "metadata": {
    "tags": []
   },
   "outputs": [
    {
     "name": "stdout",
     "output_type": "stream",
     "text": [
      "              precision    recall  f1-score   support\n",
      "\n",
      "           0       0.58      0.64      0.61        11\n",
      "           1       0.76      0.72      0.74        18\n",
      "\n",
      "    accuracy                           0.69        29\n",
      "   macro avg       0.67      0.68      0.68        29\n",
      "weighted avg       0.70      0.69      0.69        29\n",
      "\n"
     ]
    }
   ],
   "source": [
    "\n",
    "print(metrics.classification_report(ypred, ytest))"
   ]
  },
  {
   "cell_type": "code",
   "execution_count": 36,
   "id": "110ade68-8a1e-4329-ab8a-9c66b9ea2d39",
   "metadata": {
    "tags": []
   },
   "outputs": [],
   "source": [
    "test_X = X[['Resistin', 'Glucose', 'Age', 'BMI']]"
   ]
  },
  {
   "cell_type": "code",
   "execution_count": 43,
   "id": "c9851c62-639b-4810-80df-274407fce9c1",
   "metadata": {
    "tags": []
   },
   "outputs": [
    {
     "ename": "NameError",
     "evalue": "name 'entropy' is not defined",
     "output_type": "error",
     "traceback": [
      "\u001b[0;31m---------------------------------------------------------------------------\u001b[0m",
      "\u001b[0;31mNameError\u001b[0m                                 Traceback (most recent call last)",
      "Cell \u001b[0;32mIn[43], line 3\u001b[0m\n\u001b[1;32m      1\u001b[0m Xtrain, Xtest, ytrain, ytest \u001b[38;5;241m=\u001b[39m train_test_split(test_X, y,\n\u001b[1;32m      2\u001b[0m                                                 random_state\u001b[38;5;241m=\u001b[39m\u001b[38;5;241m0\u001b[39m)\n\u001b[0;32m----> 3\u001b[0m model \u001b[38;5;241m=\u001b[39m RandomForestClassifier(n_estimators\u001b[38;5;241m=\u001b[39m\u001b[38;5;241m175\u001b[39m, max_depth\u001b[38;5;241m=\u001b[39m\u001b[38;5;241m50\u001b[39m, min_samples_split\u001b[38;5;241m=\u001b[39m\u001b[38;5;241m10\u001b[39m, criterion\u001b[38;5;241m=\u001b[39m\u001b[43mentropy\u001b[49m)\n\u001b[1;32m      4\u001b[0m model\u001b[38;5;241m.\u001b[39mfit(Xtrain, ytrain)\n\u001b[1;32m      5\u001b[0m ypred \u001b[38;5;241m=\u001b[39m model\u001b[38;5;241m.\u001b[39mpredict(Xtest)\n",
      "\u001b[0;31mNameError\u001b[0m: name 'entropy' is not defined"
     ]
    }
   ],
   "source": [
    "Xtrain, Xtest, ytrain, ytest = train_test_split(test_X, y,\n",
    "                                                random_state=0)\n",
    "model = RandomForestClassifier(n_estimators=175, max_depth=50, min_samples_split=10)\n",
    "model.fit(Xtrain, ytrain)\n",
    "ypred = model.predict(Xtest)"
   ]
  },
  {
   "cell_type": "code",
   "execution_count": 42,
   "id": "e8f88ac0-74da-4d24-bd31-d30f29e62942",
   "metadata": {
    "tags": []
   },
   "outputs": [
    {
     "name": "stdout",
     "output_type": "stream",
     "text": [
      "              precision    recall  f1-score   support\n",
      "\n",
      "           0       0.67      0.73      0.70        11\n",
      "           1       0.82      0.78      0.80        18\n",
      "\n",
      "    accuracy                           0.76        29\n",
      "   macro avg       0.75      0.75      0.75        29\n",
      "weighted avg       0.76      0.76      0.76        29\n",
      "\n"
     ]
    }
   ],
   "source": [
    "print(metrics.classification_report(ypred, ytest))"
   ]
  },
  {
   "cell_type": "code",
   "execution_count": 14,
   "id": "4e5e640f-e660-4d43-9f89-451eb35eebba",
   "metadata": {
    "tags": []
   },
   "outputs": [
    {
     "data": {
      "image/png": "[encoded data removed]",
      "text/plain": [
       "<Figure size 720x432 with 1 Axes>"
      ]
     },
     "metadata": {
      "needs_background": "light"
     },
     "output_type": "display_data"
    }
   ],
   "source": [
    "import numpy as np\n",
    "import matplotlib.pyplot as plt\n",
    "from sklearn.model_selection import train_test_split\n",
    "from sklearn.ensemble import RandomForestClassifier\n",
    "from sklearn.datasets import make_classification\n",
    "from sklearn.metrics import accuracy_score\n",
    "\n",
    "estimators_range = range(1, 1001, 50)\n",
    "train_accuracy = []\n",
    "test_accuracy = []\n",
    "\n",
    "for n_estimators in estimators_range:\n",
    "    # Create and train the RandomForestClassifier\n",
    "    model = RandomForestClassifier(n_estimators=n_estimators, random_state=0)\n",
    "    model.fit(Xtrain, ytrain)\n",
    "    \n",
    "    # Predict on training and testing data\n",
    "    y_train_pred = model.predict(Xtrain)\n",
    "    y_test_pred = model.predict(Xtest)\n",
    "    \n",
    "    # Calculate accuracy scores\n",
    "    train_accuracy.append(accuracy_score(ytrain, y_train_pred))\n",
    "    test_accuracy.append(accuracy_score(ytest, y_test_pred))\n",
    "\n",
    "# Plotting the graph\n",
    "plt.figure(figsize=(10, 6))\n",
    "plt.plot(estimators_range, train_accuracy, label='Training Accuracy')\n",
    "plt.plot(estimators_range, test_accuracy, label='Testing Accuracy')\n",
    "plt.xlabel('Number of Estimators')\n",
    "plt.ylabel('Accuracy')\n",
    "plt.title('Random Forest Classifier Accuracy vs. Number of Estimators')\n",
    "plt.legend()\n",
    "plt.grid(True)\n",
    "plt.show()"
   ]
  },
  {
   "cell_type": "code",
   "execution_count": 47,
   "id": "61714298-a672-4ea7-9d35-65fb37f67a2c",
   "metadata": {},
   "outputs": [
    {
     "name": "stdout",
     "output_type": "stream",
     "text": [
      "Cross-validation scores: [1.         0.66666667 0.83333333 1.         0.83333333 0.66666667\n",
      " 0.5        0.66666667 0.66666667 0.66666667 0.66666667 0.33333333\n",
      " 0.83333333 0.66666667 1.         0.5        1.         0.8\n",
      " 1.         0.8       ]\n",
      "Mean CV Score: 0.7550000000000001\n",
      "Standard Deviation of CV Scores: 0.18507505984809997\n"
     ]
    }
   ],
   "source": [
    "k = 20  # Example: 5-fold cross-validation\n",
    "\n",
    "# Initialize the Random Forest classifier\n",
    "model = RandomForestClassifier(n_estimators=175, max_depth=50, min_samples_split=10)\n",
    "\n",
    "# Initialize the KFold object\n",
    "kf = KFold(n_splits=k, shuffle=True, random_state=42)\n",
    "\n",
    "# Perform K-fold cross-validation\n",
    "cv_scores = cross_val_score(model, X, y, cv=kf)\n",
    "\n",
    "# Print the cross-validation scores\n",
    "print(\"Cross-validation scores:\", cv_scores)\n",
    "\n",
    "# Calculate and print the mean and standard deviation of the cross-validation scores\n",
    "print(\"Mean CV Score:\", cv_scores.mean())\n",
    "print(\"Standard Deviation of CV Scores:\", cv_scores.std())"
   ]
  },
  {
   "cell_type": "code",
   "execution_count": null,
   "id": "4e36d36a-5af0-4096-9130-c212f5710aff",
   "metadata": {},
   "outputs": [],
   "source": []
  }
 ],
 "metadata": {
  "kernelspec": {
   "display_name": "UFRC Python-3.10",
   "language": "python",
   "name": "python3-3.10-ufrc"
  },
  "language_info": {
   "codemirror_mode": {
    "name": "ipython",
    "version": 3
   },
   "file_extension": ".py",
   "mimetype": "text/x-python",
   "name": "python",
   "nbconvert_exporter": "python",
   "pygments_lexer": "ipython3",
   "version": "3.10.8"
  }
 },
 "nbformat": 4,
 "nbformat_minor": 5
}
