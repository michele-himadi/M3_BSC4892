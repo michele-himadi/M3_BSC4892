{
 "cells": [
  {
   "cell_type": "code",
   "execution_count": 35,
   "id": "0dcb623f-dc3e-4b15-a16e-52da5a318f0b",
   "metadata": {
    "tags": []
   },
   "outputs": [
    {
     "name": "stdout",
     "output_type": "stream",
     "text": [
      "{'uci_id': 451, 'name': 'Breast Cancer Coimbra', 'repository_url': 'https://archive.ics.uci.edu/dataset/451/breast+cancer+coimbra', 'data_url': 'https://archive.ics.uci.edu/static/public/451/data.csv', 'abstract': 'Clinical features were observed or measured for 64 patients with breast cancer and 52 healthy controls. ', 'area': 'Health and Medicine', 'tasks': ['Classification'], 'characteristics': ['Multivariate'], 'num_instances': 116, 'num_features': 9, 'feature_types': ['Integer'], 'demographics': ['Age'], 'target_col': ['Classification'], 'index_col': None, 'has_missing_values': 'no', 'missing_values_symbol': None, 'year_of_dataset_creation': 2018, 'last_updated': 'Sat Mar 16 2024', 'dataset_doi': '10.24432/C52P59', 'creators': ['Miguel Patrcio', 'Jos Pereira', 'Joana Crisstomo', 'Paulo Matafome', 'Raquel Seia', 'Francisco Caramelo'], 'intro_paper': {'title': 'Using Resistin, glucose, age and BMI to predict the presence of breast cancer', 'authors': 'M. Patrício, J. Pereira, J. Crisóstomo, P. Matafome, M. Gomes, Raquel Seiça, F. Caramelo', 'published_in': 'BMC Cancer', 'year': 2018, 'url': 'https://www.semanticscholar.org/paper/0861bd9c3acf6504ce142517c4e05bf8f564f32a', 'doi': '10.1186/s12885-017-3877-1'}, 'additional_info': {'summary': 'There are 10 predictors, all quantitative, and a binary dependent variable, indicating the presence or absence of breast cancer. \\r\\nThe predictors are anthropometric data and parameters which can be gathered in routine blood analysis. \\r\\nPrediction models based on these predictors, if accurate, can potentially be used as a biomarker of breast cancer.', 'purpose': None, 'funded_by': None, 'instances_represent': None, 'recommended_data_splits': None, 'sensitive_data': None, 'preprocessing_description': None, 'variable_info': 'Quantitative Attributes: \\r\\nAge (years)\\r\\nBMI (kg/m2)\\r\\nGlucose (mg/dL)\\r\\nInsulin (µU/mL)\\r\\nHOMA\\r\\nLeptin (ng/mL)\\r\\nAdiponectin (µg/mL)\\r\\nResistin (ng/mL)\\r\\nMCP-1(pg/dL)\\r\\n\\r\\nLabels:\\r\\n1=Healthy controls\\r\\n2=Patients', 'citation': None}}\n",
      "             name     role        type demographic  \\\n",
      "0             Age  Feature     Integer         Age   \n",
      "1             BMI  Feature  Continuous        None   \n",
      "2         Glucose  Feature     Integer        None   \n",
      "3         Insulin  Feature  Continuous        None   \n",
      "4            HOMA  Feature  Continuous        None   \n",
      "5          Leptin  Feature  Continuous        None   \n",
      "6     Adiponectin  Feature  Continuous        None   \n",
      "7        Resistin  Feature  Continuous        None   \n",
      "8           MCP.1  Feature  Continuous        None   \n",
      "9  Classification   Target     Integer        None   \n",
      "\n",
      "                      description  units missing_values  \n",
      "0                            None   year             no  \n",
      "1                            None  kg/m2             no  \n",
      "2                            None  mg/dL             no  \n",
      "3                            None  µU/mL             no  \n",
      "4                            None   None             no  \n",
      "5                            None  ng/mL             no  \n",
      "6                            None  µU/mL             no  \n",
      "7                            None  ng/mL             no  \n",
      "8                            None  pg/dL             no  \n",
      "9  1=Healthy controls, 2=Patients   None             no  \n"
     ]
    }
   ],
   "source": [
    "from ucimlrepo import fetch_ucirepo \n",
    "  \n",
    "# fetch dataset \n",
    "breast_cancer_coimbra = fetch_ucirepo(id=451) \n",
    "  \n",
    "# data (as pandas dataframes) \n",
    "X = breast_cancer_coimbra.data.features \n",
    "y = breast_cancer_coimbra.data.targets \n",
    "  \n",
    "# metadata \n",
    "print(breast_cancer_coimbra.metadata) \n",
    "  \n",
    "# variable information \n",
    "print(breast_cancer_coimbra.variables) \n"
   ]
  },
  {
   "cell_type": "code",
   "execution_count": 36,
   "id": "8ca81a08-965b-4e60-a11e-8205888e2fbc",
   "metadata": {
    "tags": []
   },
   "outputs": [
    {
     "name": "stdout",
     "output_type": "stream",
     "text": [
      "     Age        BMI  Glucose  Insulin      HOMA   Leptin  Adiponectin  \\\n",
      "0     48  23.500000       70    2.707  0.467409   8.8071     9.702400   \n",
      "1     83  20.690495       92    3.115  0.706897   8.8438     5.429285   \n",
      "2     82  23.124670       91    4.498  1.009651  17.9393    22.432040   \n",
      "3     68  21.367521       77    3.226  0.612725   9.8827     7.169560   \n",
      "4     86  21.111111       92    3.549  0.805386   6.6994     4.819240   \n",
      "..   ...        ...      ...      ...       ...      ...          ...   \n",
      "111   45  26.850000       92    3.330  0.755688  54.6800    12.100000   \n",
      "112   62  26.840000      100    4.530  1.117400  12.4500    21.420000   \n",
      "113   65  32.050000       97    5.730  1.370998  61.4800    22.540000   \n",
      "114   72  25.590000       82    2.820  0.570392  24.9600    33.750000   \n",
      "115   86  27.180000      138   19.910  6.777364  90.2800    14.110000   \n",
      "\n",
      "     Resistin    MCP.1  \n",
      "0     7.99585  417.114  \n",
      "1     4.06405  468.786  \n",
      "2     9.27715  554.697  \n",
      "3    12.76600  928.220  \n",
      "4    10.57635  773.920  \n",
      "..        ...      ...  \n",
      "111  10.96000  268.230  \n",
      "112   7.32000  330.160  \n",
      "113  10.33000  314.050  \n",
      "114   3.27000  392.460  \n",
      "115   4.35000   90.090  \n",
      "\n",
      "[116 rows x 9 columns]\n"
     ]
    }
   ],
   "source": [
    "print(X)"
   ]
  },
  {
   "cell_type": "code",
   "execution_count": null,
   "id": "e3864678-323d-4818-84b2-17cda5f63171",
   "metadata": {},
   "outputs": [],
   "source": [
    "%matplotlib inline\n",
    "\n",
    "\n",
    "\n",
    "import seaborn as sns; sns.set()\n",
    "\n",
    "# Plot only some of the columns since there are so many...takes a long time to do all\n",
    "sns.pairplot(data=breast_cancer.frame,\n",
    "             x_vars=['mean radius','mean texture','mean perimeter','mean area','mean smoothness','mean compactness','mean concavity','mean concave points','mean symmetry'],\n",
    "             y_vars=['mean radius','mean texture','mean perimeter','mean area','mean smoothness','mean compactness','mean concavity','mean concave points','mean symmetry'],\n",
    "             hue='target', height=1.5)"
   ]
  }
 ],
 "metadata": {
  "kernelspec": {
   "display_name": "UFRC Python-3.10",
   "language": "python",
   "name": "python3-3.10-ufrc"
  },
  "language_info": {
   "codemirror_mode": {
    "name": "ipython",
    "version": 3
   },
   "file_extension": ".py",
   "mimetype": "text/x-python",
   "name": "python",
   "nbconvert_exporter": "python",
   "pygments_lexer": "ipython3",
   "version": "3.10.8"
  }
 },
 "nbformat": 4,
 "nbformat_minor": 5
}
